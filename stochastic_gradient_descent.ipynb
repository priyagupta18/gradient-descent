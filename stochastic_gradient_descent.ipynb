{
 "cells": [
  {
   "cell_type": "code",
   "execution_count": 142,
   "id": "c638c388-ba02-4508-824f-c04d622452f6",
   "metadata": {},
   "outputs": [],
   "source": [
    "import numpy as np\n",
    "from sklearn.model_selection import cross_val_score\n",
    "from sklearn.datasets import load_diabetes\n",
    "from sklearn.linear_model import LinearRegression\n",
    "from sklearn.model_selection import train_test_split\n",
    "from sklearn.metrics import r2_score"
   ]
  },
  {
   "cell_type": "code",
   "execution_count": 121,
   "id": "b05419f5-5bc0-4187-8318-cd5cc80459cd",
   "metadata": {},
   "outputs": [
    {
     "name": "stdout",
     "output_type": "stream",
     "text": [
      "(442, 10)\n",
      "(442,)\n"
     ]
    }
   ],
   "source": [
    "X,y = load_diabetes(return_X_y=True)\n",
    "print(X.shape)\n",
    "print(y.shape)"
   ]
  },
  {
   "cell_type": "code",
   "execution_count": 122,
   "id": "70430f37-b501-40a1-8ba9-6abc01814909",
   "metadata": {},
   "outputs": [
    {
     "data": {
      "text/plain": [
       "array([[ 0.03807591,  0.05068012,  0.06169621, ..., -0.00259226,\n",
       "         0.01990749, -0.01764613],\n",
       "       [-0.00188202, -0.04464164, -0.05147406, ..., -0.03949338,\n",
       "        -0.06833155, -0.09220405],\n",
       "       [ 0.08529891,  0.05068012,  0.04445121, ..., -0.00259226,\n",
       "         0.00286131, -0.02593034],\n",
       "       ...,\n",
       "       [ 0.04170844,  0.05068012, -0.01590626, ..., -0.01107952,\n",
       "        -0.04688253,  0.01549073],\n",
       "       [-0.04547248, -0.04464164,  0.03906215, ...,  0.02655962,\n",
       "         0.04452873, -0.02593034],\n",
       "       [-0.04547248, -0.04464164, -0.0730303 , ..., -0.03949338,\n",
       "        -0.00422151,  0.00306441]])"
      ]
     },
     "execution_count": 122,
     "metadata": {},
     "output_type": "execute_result"
    }
   ],
   "source": [
    "X"
   ]
  },
  {
   "cell_type": "code",
   "execution_count": 123,
   "id": "20375483-4e9c-4b8a-826b-4ae5f4f0287d",
   "metadata": {},
   "outputs": [],
   "source": [
    "X_train,X_test,y_train,y_test = train_test_split(X,y,test_size=0.2,random_state=2)"
   ]
  },
  {
   "cell_type": "code",
   "execution_count": 124,
   "id": "e4018d0c-dcd5-469c-82cd-e5328c50ab84",
   "metadata": {},
   "outputs": [
    {
     "name": "stdout",
     "output_type": "stream",
     "text": [
      "weights -  [  -9.15865318 -205.45432163  516.69374454  340.61999905 -895.5520019\n",
      "  561.22067904  153.89310954  126.73139688  861.12700152   52.42112238]\n",
      "Bias -  151.88331005254167\n"
     ]
    }
   ],
   "source": [
    "# using OLS\n",
    "reg = LinearRegression()\n",
    "reg.fit(X_train,y_train)\n",
    "print(\"weights - \",reg.coef_)\n",
    "print(\"Bias - \",reg.intercept_)"
   ]
  },
  {
   "cell_type": "code",
   "execution_count": 125,
   "id": "180cbe8d-08cb-419e-951c-08d85726387f",
   "metadata": {},
   "outputs": [
    {
     "data": {
      "text/plain": [
       "0.4399338661568969"
      ]
     },
     "execution_count": 125,
     "metadata": {},
     "output_type": "execute_result"
    }
   ],
   "source": [
    "y_pred = reg.predict(X_test)\n",
    "r2_score(y_test,y_pred)"
   ]
  },
  {
   "cell_type": "code",
   "execution_count": 126,
   "id": "72c8fae0-4bbb-440f-84e0-94c88524e204",
   "metadata": {},
   "outputs": [],
   "source": [
    "#stochastic gradient descent from scratch\n",
    "\n",
    "class SGDRegressor:\n",
    "    def __init__(self,learning_rate=0.01, epoch=100):\n",
    "        self.intercept_ = None\n",
    "        self.coef_ = None\n",
    "        self.learning_rate = learning_rate\n",
    "        self.epoch = epoch\n",
    "\n",
    "    def fit(self,X,y):\n",
    "        self.intercept_ = 0\n",
    "        self.coef_ = np.ones((1,X.shape[1]))\n",
    "        y = y.reshape(-1,1)\n",
    "\n",
    "        for i in range(self.epoch):\n",
    "            mean_loss = []\n",
    "            \n",
    "            for j in range(X.shape[0]):\n",
    "                idx = np.random.randint(0,X.shape[0])\n",
    "                reshaped_x = X[idx].reshape(-1,1)\n",
    "                y_hat = np.dot(self.coef_, reshaped_x) + self.intercept_\n",
    "                y_dif = y[idx]-y_hat\n",
    "            \n",
    "                loss_intercept_ = -2 * y_dif\n",
    "                loss_coef_ = -2 * y_dif*reshaped_x\n",
    "\n",
    "                self.intercept_ = self.intercept_ - (self.learning_rate*loss_intercept_) \n",
    "                self.coef_ = self.coef_ - (self.learning_rate*loss_coef_.T)             \n",
    "\n",
    "                mean_loss.append(y_dif**2)\n",
    "            # print(np.array(mean_loss).mean())\n",
    "\n",
    "        print(\"Weights - \", self.coef_)\n",
    "        print(\"Bias - \", self.intercept_)\n",
    "\n",
    "    def predict(self,x):\n",
    "        return np.dot(x,self.coef_.T) + self.intercept_"
   ]
  },
  {
   "cell_type": "code",
   "execution_count": 139,
   "id": "b667691c-fab1-4433-8b96-5b35ecb820b7",
   "metadata": {},
   "outputs": [
    {
     "name": "stdout",
     "output_type": "stream",
     "text": [
      "Weights -  [[  36.05002521 -121.48886455  433.11091186  293.31207681  -13.55603081\n",
      "   -79.76543904 -191.24537674  118.75984833  392.77503486  115.8631307 ]]\n",
      "Bias -  [[150.83001763]]\n"
     ]
    }
   ],
   "source": [
    "sgd = SGDRegressor(0.01,85)\n",
    "sgd.fit(X_train,y_train)"
   ]
  },
  {
   "cell_type": "code",
   "execution_count": 140,
   "id": "f9a68982-482d-4740-93b6-0a1915b25bd0",
   "metadata": {},
   "outputs": [],
   "source": [
    "y_pred = sgd.predict(X_test)"
   ]
  },
  {
   "cell_type": "code",
   "execution_count": 141,
   "id": "e7dce039-948a-44a8-9a43-8eef998aa5cb",
   "metadata": {},
   "outputs": [
    {
     "data": {
      "text/plain": [
       "0.45056208631225847"
      ]
     },
     "execution_count": 141,
     "metadata": {},
     "output_type": "execute_result"
    }
   ],
   "source": [
    "r2_score(y_test,y_pred)"
   ]
  },
  {
   "cell_type": "code",
   "execution_count": null,
   "id": "75c2f31b-9c8d-48e4-80c9-fc1f92d7a078",
   "metadata": {},
   "outputs": [],
   "source": []
  }
 ],
 "metadata": {
  "kernelspec": {
   "display_name": "loan_pred_env",
   "language": "python",
   "name": "loan_pred_env"
  },
  "language_info": {
   "codemirror_mode": {
    "name": "ipython",
    "version": 3
   },
   "file_extension": ".py",
   "mimetype": "text/x-python",
   "name": "python",
   "nbconvert_exporter": "python",
   "pygments_lexer": "ipython3",
   "version": "3.10.12"
  }
 },
 "nbformat": 4,
 "nbformat_minor": 5
}
