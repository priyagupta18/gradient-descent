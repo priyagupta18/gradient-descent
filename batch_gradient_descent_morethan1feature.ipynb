{
 "cells": [
  {
   "cell_type": "code",
   "execution_count": 107,
   "id": "ccf59bc1-1fd6-48c5-9662-474aba3729de",
   "metadata": {},
   "outputs": [],
   "source": [
    "from sklearn.datasets import make_regression\n",
    "import numpy as np\n",
    "from sklearn.datasets import load_diabetes\n",
    "from sklearn.linear_model import LinearRegression\n",
    "from sklearn.model_selection import train_test_split\n",
    "from sklearn.metrics import r2_score"
   ]
  },
  {
   "cell_type": "markdown",
   "id": "3d213141-184d-4659-ac96-ddeac294d301",
   "metadata": {},
   "source": [
    "## Gradient descent on dataset with 2 features"
   ]
  },
  {
   "cell_type": "code",
   "execution_count": 90,
   "id": "39aba9d2-3917-4b53-a8c1-1a5fde6c4ed3",
   "metadata": {},
   "outputs": [],
   "source": [
    "X,y = make_regression(n_samples=100, n_features=2, n_informative=1, n_targets=1,noise=20,random_state=13)"
   ]
  },
  {
   "cell_type": "code",
   "execution_count": 91,
   "id": "39420aa0-0603-4a69-b028-54dd8bf1e750",
   "metadata": {},
   "outputs": [
    {
     "name": "stdout",
     "output_type": "stream",
     "text": [
      "(100, 2)\n"
     ]
    }
   ],
   "source": [
    "print(X.shape)"
   ]
  },
  {
   "cell_type": "code",
   "execution_count": 92,
   "id": "d160d0e5-d68d-4876-94e8-50dc5852a645",
   "metadata": {},
   "outputs": [],
   "source": [
    "X_train,X_test,y_train,y_test = train_test_split(X,y,test_size=0.2,random_state=2)"
   ]
  },
  {
   "cell_type": "code",
   "execution_count": 93,
   "id": "366adc9f-f87a-4a0d-ae9b-a3ae43d5f133",
   "metadata": {},
   "outputs": [
    {
     "name": "stdout",
     "output_type": "stream",
     "text": [
      "weights -  [18.41561642 -3.19719622]\n",
      "Bias -  -3.1128428754837785\n"
     ]
    }
   ],
   "source": [
    "# using OLS\n",
    "reg = LinearRegression()\n",
    "reg.fit(X_train,y_train)\n",
    "print(\"weights - \",reg.coef_)\n",
    "print(\"Bias - \",reg.intercept_)\n"
   ]
  },
  {
   "cell_type": "code",
   "execution_count": 94,
   "id": "038840dd-1392-4463-8bb8-693f10c4a561",
   "metadata": {},
   "outputs": [
    {
     "data": {
      "text/plain": [
       "0.5766817139060403"
      ]
     },
     "execution_count": 94,
     "metadata": {},
     "output_type": "execute_result"
    }
   ],
   "source": [
    "y_pred = reg.predict(X_test)\n",
    "r2_score(y_test,y_pred)"
   ]
  },
  {
   "cell_type": "code",
   "execution_count": 96,
   "id": "e7719ae8-78fd-4069-9d8c-1999d1d370bd",
   "metadata": {},
   "outputs": [],
   "source": [
    "#batch gradient descent from scratch\n",
    "class GDRegressor:\n",
    "    def __init__(self,learning_rate=0.01, epoch=100):\n",
    "        self.m1 = 100\n",
    "        self.m2 = 100\n",
    "        self.b = -120\n",
    "        self.learning_rate = learning_rate\n",
    "        self.epoch = epoch\n",
    "\n",
    "    def fit(self,X,y):\n",
    "        for i in range(self.epoch):\n",
    "            loss_slope_b = -2 * np.sum(y-self.m1*X[:,0].ravel()-self.m2*X[:,1].ravel()- self.b)\n",
    "            loss_slope_m1 = -2 * np.sum((y-self.m1*X[:,0].ravel()-self.m2*X[:,1].ravel()- self.b)*X[:,0].ravel())\n",
    "            loss_slope_m2 = -2 * np.sum((y-self.m1*X[:,0].ravel()-self.m2*X[:,1].ravel()- self.b)*X[:,1].ravel())\n",
    "\n",
    "            \n",
    "            self.b = self.b - (self.learning_rate*loss_slope_b) \n",
    "            self.m1 = self.m1 - (self.learning_rate*loss_slope_m1)             \n",
    "            self.m2 = self.m2 - (self.learning_rate*loss_slope_m2)             \n",
    "\n",
    "        print(\"Bias - \",self.b)\n",
    "        print(\"Weight1 - \", self.m1)\n",
    "        print(\"Weight2 - \", self.m2)\n",
    "\n",
    "    def predict(self,x):\n",
    "        return self.m*x+self.b"
   ]
  },
  {
   "cell_type": "code",
   "execution_count": 97,
   "id": "6cc81a72-1988-43aa-8c5c-6cba3004e3f9",
   "metadata": {},
   "outputs": [
    {
     "name": "stdout",
     "output_type": "stream",
     "text": [
      "Bias -  -3.1093291292405625\n",
      "Weight1 -  18.449442771456674\n",
      "Weight2 -  -3.159459035753228\n"
     ]
    }
   ],
   "source": [
    "gd = GDRegressor(0.001,70)\n",
    "gd.fit(X_train,y_train)"
   ]
  },
  {
   "cell_type": "markdown",
   "id": "ac71ca09-1171-4ed1-a2b5-c2a41bcc132e",
   "metadata": {},
   "source": [
    "## Generalized Gradient descent on dataset with more than 2 features (using matrix)"
   ]
  },
  {
   "cell_type": "code",
   "execution_count": 98,
   "id": "3ebc8862-69ec-48bd-9e61-f1337d7a6fec",
   "metadata": {},
   "outputs": [
    {
     "name": "stdout",
     "output_type": "stream",
     "text": [
      "(442, 10)\n",
      "(442,)\n"
     ]
    }
   ],
   "source": [
    "X,y = load_diabetes(return_X_y=True)\n",
    "print(X.shape)\n",
    "print(y.shape)"
   ]
  },
  {
   "cell_type": "code",
   "execution_count": 99,
   "id": "f3ea8d26-9779-40f2-b61a-fc511bab3825",
   "metadata": {},
   "outputs": [
    {
     "data": {
      "text/plain": [
       "array([[ 0.03807591,  0.05068012,  0.06169621, ..., -0.00259226,\n",
       "         0.01990749, -0.01764613],\n",
       "       [-0.00188202, -0.04464164, -0.05147406, ..., -0.03949338,\n",
       "        -0.06833155, -0.09220405],\n",
       "       [ 0.08529891,  0.05068012,  0.04445121, ..., -0.00259226,\n",
       "         0.00286131, -0.02593034],\n",
       "       ...,\n",
       "       [ 0.04170844,  0.05068012, -0.01590626, ..., -0.01107952,\n",
       "        -0.04688253,  0.01549073],\n",
       "       [-0.04547248, -0.04464164,  0.03906215, ...,  0.02655962,\n",
       "         0.04452873, -0.02593034],\n",
       "       [-0.04547248, -0.04464164, -0.0730303 , ..., -0.03949338,\n",
       "        -0.00422151,  0.00306441]])"
      ]
     },
     "execution_count": 99,
     "metadata": {},
     "output_type": "execute_result"
    }
   ],
   "source": [
    "X"
   ]
  },
  {
   "cell_type": "code",
   "execution_count": 100,
   "id": "eec211c4-ed09-4a29-b98a-45c81bd99d2e",
   "metadata": {},
   "outputs": [],
   "source": [
    "X_train,X_test,y_train,y_test = train_test_split(X,y,test_size=0.2,random_state=2)"
   ]
  },
  {
   "cell_type": "code",
   "execution_count": 101,
   "id": "48be65e5-555d-47de-bc00-5de3368eb7d3",
   "metadata": {},
   "outputs": [
    {
     "name": "stdout",
     "output_type": "stream",
     "text": [
      "weights -  [  -9.15865318 -205.45432163  516.69374454  340.61999905 -895.5520019\n",
      "  561.22067904  153.89310954  126.73139688  861.12700152   52.42112238]\n",
      "Bias -  151.88331005254167\n"
     ]
    }
   ],
   "source": [
    "# using OLS\n",
    "reg = LinearRegression()\n",
    "reg.fit(X_train,y_train)\n",
    "print(\"weights - \",reg.coef_)\n",
    "print(\"Bias - \",reg.intercept_)"
   ]
  },
  {
   "cell_type": "code",
   "execution_count": 102,
   "id": "d9092d70-6c5e-4c3f-ba73-ba6a18de3dbc",
   "metadata": {},
   "outputs": [
    {
     "data": {
      "text/plain": [
       "0.4399338661568969"
      ]
     },
     "execution_count": 102,
     "metadata": {},
     "output_type": "execute_result"
    }
   ],
   "source": [
    "y_pred = reg.predict(X_test)\n",
    "r2_score(y_test,y_pred)"
   ]
  },
  {
   "cell_type": "code",
   "execution_count": 103,
   "id": "090560d3-2b18-4560-8ca6-3b3387840634",
   "metadata": {},
   "outputs": [],
   "source": [
    "#batch gradient descent from scratch\n",
    "\n",
    "\n",
    "class GDRegressor:\n",
    "    def __init__(self,learning_rate=0.01, epoch=100):\n",
    "        self.intercept_ = None\n",
    "        self.coef_ = None\n",
    "        self.learning_rate = learning_rate\n",
    "        self.epoch = epoch\n",
    "\n",
    "    def fit(self,X,y):\n",
    "        y = y.reshape(-1,1)\n",
    "        self.intercept_ = 0\n",
    "        self.coef_ = np.ones((1,X.shape[1]))\n",
    "\n",
    "        for i in range(self.epoch):\n",
    "            y_hat = np.dot(X,self.coef_.T) + self.intercept_\n",
    "            y_dif = y-y_hat\n",
    "            \n",
    "            loss_intercept_ = -2 * np.mean(y_dif)\n",
    "            loss_coef_ = -2 * np.dot(y_dif.T,X) / X.shape[0]\n",
    "\n",
    "            self.intercept_ = self.intercept_ - (self.learning_rate*loss_intercept_) \n",
    "            self.coef_ = self.coef_ - (self.learning_rate*loss_coef_)             \n",
    "\n",
    "        print(\"Weights - \", self.coef_)\n",
    "        print(\"Bias - \", self.intercept_)\n",
    "\n",
    "    def predict(self,x):\n",
    "        return np.dot(x,self.coef_.T) + self.intercept_"
   ]
  },
  {
   "cell_type": "code",
   "execution_count": 104,
   "id": "25b39ae1-4ec6-4ad2-b508-ea15f2cf83ae",
   "metadata": {},
   "outputs": [
    {
     "name": "stdout",
     "output_type": "stream",
     "text": [
      "Weights -  [[  14.38990585 -173.7235727   491.54898524  323.91524824  -39.32648042\n",
      "  -116.01061213 -194.04077415  103.38135565  451.63448787   97.57218278]]\n",
      "Bias -  152.01351687661833\n"
     ]
    }
   ],
   "source": [
    "gdr = GDRegressor(epoch=1000,learning_rate=0.5)\n",
    "gdr.fit(X_train,y_train)"
   ]
  },
  {
   "cell_type": "code",
   "execution_count": 105,
   "id": "6017383e-3555-40c6-bb75-377c82a102f0",
   "metadata": {},
   "outputs": [],
   "source": [
    "y_pred = gdr.predict(X_test)"
   ]
  },
  {
   "cell_type": "code",
   "execution_count": 106,
   "id": "6baad199-9d94-4b33-82b3-8d39dc7f778f",
   "metadata": {},
   "outputs": [
    {
     "data": {
      "text/plain": [
       "0.4534503034722803"
      ]
     },
     "execution_count": 106,
     "metadata": {},
     "output_type": "execute_result"
    }
   ],
   "source": [
    "r2_score(y_test,y_pred)"
   ]
  },
  {
   "cell_type": "code",
   "execution_count": null,
   "id": "2ca0ef98-c8b6-4118-bf42-36203205c1ba",
   "metadata": {},
   "outputs": [],
   "source": []
  },
  {
   "cell_type": "code",
   "execution_count": null,
   "id": "6b4589fc-4a4b-46ce-867c-55d9e9f499af",
   "metadata": {},
   "outputs": [],
   "source": []
  }
 ],
 "metadata": {
  "kernelspec": {
   "display_name": "loan_pred_venv",
   "language": "python",
   "name": "loan_pred_venv"
  },
  "language_info": {
   "codemirror_mode": {
    "name": "ipython",
    "version": 3
   },
   "file_extension": ".py",
   "mimetype": "text/x-python",
   "name": "python",
   "nbconvert_exporter": "python",
   "pygments_lexer": "ipython3",
   "version": "3.10.12"
  }
 },
 "nbformat": 4,
 "nbformat_minor": 5
}
